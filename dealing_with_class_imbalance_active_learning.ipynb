{
 "cells": [
  {
   "cell_type": "code",
   "execution_count": 1,
   "metadata": {},
   "outputs": [
    {
     "name": "stdout",
     "output_type": "stream",
     "text": [
      "Requirement already satisfied: modAL in c:\\users\\akarpinska2\\anaconda3\\lib\\site-packages (0.55.3854)\n",
      "Requirement already satisfied: rich>=12.0.0 in c:\\users\\akarpinska2\\anaconda3\\lib\\site-packages (from modAL) (13.6.0)\n",
      "Requirement already satisfied: fastapi in c:\\users\\akarpinska2\\anaconda3\\lib\\site-packages (from modAL) (0.104.0)\n",
      "Requirement already satisfied: typing-extensions~=4.6 in c:\\users\\akarpinska2\\anaconda3\\lib\\site-packages (from modAL) (4.8.0)\n",
      "Requirement already satisfied: toml in c:\\users\\akarpinska2\\anaconda3\\lib\\site-packages (from modAL) (0.10.2)\n",
      "Requirement already satisfied: types-certifi in c:\\users\\akarpinska2\\anaconda3\\lib\\site-packages (from modAL) (2021.10.8.3)\n",
      "Requirement already satisfied: types-toml in c:\\users\\akarpinska2\\anaconda3\\lib\\site-packages (from modAL) (0.10.8.7)\n",
      "Requirement already satisfied: grpclib==0.4.3 in c:\\users\\akarpinska2\\anaconda3\\lib\\site-packages (from modAL) (0.4.3)\n",
      "Requirement already satisfied: certifi in c:\\users\\akarpinska2\\anaconda3\\lib\\site-packages (from modAL) (2023.5.7)\n",
      "Requirement already satisfied: watchfiles in c:\\users\\akarpinska2\\anaconda3\\lib\\site-packages (from modAL) (0.21.0)\n",
      "Requirement already satisfied: aiostream in c:\\users\\akarpinska2\\anaconda3\\lib\\site-packages (from modAL) (0.5.1)\n",
      "Requirement already satisfied: synchronicity~=0.5.3 in c:\\users\\akarpinska2\\anaconda3\\lib\\site-packages (from modAL) (0.5.3)\n",
      "Requirement already satisfied: asgiref in c:\\users\\akarpinska2\\anaconda3\\lib\\site-packages (from modAL) (3.7.2)\n",
      "Requirement already satisfied: tblib>=1.7.0 in c:\\users\\akarpinska2\\anaconda3\\lib\\site-packages (from modAL) (1.7.0)\n",
      "Requirement already satisfied: protobuf!=4.24.0,<5.0,>=3.19 in c:\\users\\akarpinska2\\anaconda3\\lib\\site-packages (from modAL) (4.24.4)\n",
      "Requirement already satisfied: click>=8.1.0 in c:\\users\\akarpinska2\\anaconda3\\lib\\site-packages (from modAL) (8.1.7)\n",
      "Requirement already satisfied: importlib-metadata>=3.6.0 in c:\\users\\akarpinska2\\anaconda3\\lib\\site-packages (from modAL) (4.11.3)\n",
      "Requirement already satisfied: aiohttp in c:\\users\\akarpinska2\\anaconda3\\lib\\site-packages (from modAL) (3.8.6)\n",
      "Requirement already satisfied: cloudpickle<2.1.0,>=2.0.0 in c:\\users\\akarpinska2\\anaconda3\\lib\\site-packages (from modAL) (2.0.0)\n",
      "Requirement already satisfied: typer~=0.9.0 in c:\\users\\akarpinska2\\anaconda3\\lib\\site-packages (from modAL) (0.9.0)\n",
      "Requirement already satisfied: multidict in c:\\users\\akarpinska2\\anaconda3\\lib\\site-packages (from grpclib==0.4.3->modAL) (6.0.4)\n",
      "Requirement already satisfied: h2<5,>=3.1.0 in c:\\users\\akarpinska2\\anaconda3\\lib\\site-packages (from grpclib==0.4.3->modAL) (4.1.0)\n",
      "Requirement already satisfied: colorama in c:\\users\\akarpinska2\\anaconda3\\lib\\site-packages (from click>=8.1.0->modAL) (0.4.6)\n",
      "Requirement already satisfied: zipp>=0.5 in c:\\users\\akarpinska2\\anaconda3\\lib\\site-packages (from importlib-metadata>=3.6.0->modAL) (3.11.0)\n",
      "Requirement already satisfied: pygments<3.0.0,>=2.13.0 in c:\\users\\akarpinska2\\anaconda3\\lib\\site-packages (from rich>=12.0.0->modAL) (2.16.1)\n",
      "Requirement already satisfied: markdown-it-py>=2.2.0 in c:\\users\\akarpinska2\\anaconda3\\lib\\site-packages (from rich>=12.0.0->modAL) (3.0.0)\n",
      "Requirement already satisfied: sigtools==4.0.1 in c:\\users\\akarpinska2\\anaconda3\\lib\\site-packages (from synchronicity~=0.5.3->modAL) (4.0.1)\n",
      "Requirement already satisfied: attrs in c:\\users\\akarpinska2\\anaconda3\\lib\\site-packages (from sigtools==4.0.1->synchronicity~=0.5.3->modAL) (22.1.0)\n",
      "Requirement already satisfied: frozenlist>=1.1.1 in c:\\users\\akarpinska2\\anaconda3\\lib\\site-packages (from aiohttp->modAL) (1.4.0)\n",
      "Requirement already satisfied: yarl<2.0,>=1.0 in c:\\users\\akarpinska2\\anaconda3\\lib\\site-packages (from aiohttp->modAL) (1.9.2)\n",
      "Requirement already satisfied: aiosignal>=1.1.2 in c:\\users\\akarpinska2\\anaconda3\\lib\\site-packages (from aiohttp->modAL) (1.3.1)\n",
      "Requirement already satisfied: charset-normalizer<4.0,>=2.0 in c:\\users\\akarpinska2\\anaconda3\\lib\\site-packages (from aiohttp->modAL) (2.0.4)\n",
      "Requirement already satisfied: async-timeout<5.0,>=4.0.0a3 in c:\\users\\akarpinska2\\anaconda3\\lib\\site-packages (from aiohttp->modAL) (4.0.3)\n",
      "Requirement already satisfied: anyio<4.0.0,>=3.7.1 in c:\\users\\akarpinska2\\anaconda3\\lib\\site-packages (from fastapi->modAL) (3.7.1)\n",
      "Requirement already satisfied: pydantic!=1.8,!=1.8.1,!=2.0.0,!=2.0.1,!=2.1.0,<3.0.0,>=1.7.4 in c:\\users\\akarpinska2\\anaconda3\\lib\\site-packages (from fastapi->modAL) (2.4.2)\n",
      "Requirement already satisfied: starlette<0.28.0,>=0.27.0 in c:\\users\\akarpinska2\\anaconda3\\lib\\site-packages (from fastapi->modAL) (0.27.0)\n",
      "Requirement already satisfied: sniffio>=1.1 in c:\\users\\akarpinska2\\anaconda3\\lib\\site-packages (from anyio<4.0.0,>=3.7.1->fastapi->modAL) (1.2.0)\n",
      "Requirement already satisfied: idna>=2.8 in c:\\users\\akarpinska2\\anaconda3\\lib\\site-packages (from anyio<4.0.0,>=3.7.1->fastapi->modAL) (3.4)\n",
      "Requirement already satisfied: exceptiongroup in c:\\users\\akarpinska2\\anaconda3\\lib\\site-packages (from anyio<4.0.0,>=3.7.1->fastapi->modAL) (1.1.1)\n",
      "Requirement already satisfied: hyperframe<7,>=6.0 in c:\\users\\akarpinska2\\anaconda3\\lib\\site-packages (from h2<5,>=3.1.0->grpclib==0.4.3->modAL) (6.0.1)\n",
      "Requirement already satisfied: hpack<5,>=4.0 in c:\\users\\akarpinska2\\anaconda3\\lib\\site-packages (from h2<5,>=3.1.0->grpclib==0.4.3->modAL) (4.0.0)\n",
      "Requirement already satisfied: mdurl~=0.1 in c:\\users\\akarpinska2\\anaconda3\\lib\\site-packages (from markdown-it-py>=2.2.0->rich>=12.0.0->modAL) (0.1.2)\n",
      "Requirement already satisfied: annotated-types>=0.4.0 in c:\\users\\akarpinska2\\anaconda3\\lib\\site-packages (from pydantic!=1.8,!=1.8.1,!=2.0.0,!=2.0.1,!=2.1.0,<3.0.0,>=1.7.4->fastapi->modAL) (0.6.0)\n",
      "Requirement already satisfied: pydantic-core==2.10.1 in c:\\users\\akarpinska2\\anaconda3\\lib\\site-packages (from pydantic!=1.8,!=1.8.1,!=2.0.0,!=2.0.1,!=2.1.0,<3.0.0,>=1.7.4->fastapi->modAL) (2.10.1)\n"
     ]
    }
   ],
   "source": [
    "# install modAL library\n",
    "! pip install modAL"
   ]
  },
  {
   "cell_type": "code",
   "execution_count": 2,
   "metadata": {},
   "outputs": [
    {
     "name": "stdout",
     "output_type": "stream",
     "text": [
      "Requirement already satisfied: modAL in c:\\users\\akarpinska2\\anaconda3\\lib\\site-packages (0.55.3854)\n",
      "Requirement already satisfied: types-toml in c:\\users\\akarpinska2\\anaconda3\\lib\\site-packages (from modAL) (0.10.8.7)\n",
      "Requirement already satisfied: watchfiles in c:\\users\\akarpinska2\\anaconda3\\lib\\site-packages (from modAL) (0.21.0)\n",
      "Requirement already satisfied: asgiref in c:\\users\\akarpinska2\\anaconda3\\lib\\site-packages (from modAL) (3.7.2)\n",
      "Requirement already satisfied: aiohttp in c:\\users\\akarpinska2\\anaconda3\\lib\\site-packages (from modAL) (3.8.6)\n",
      "Requirement already satisfied: tblib>=1.7.0 in c:\\users\\akarpinska2\\anaconda3\\lib\\site-packages (from modAL) (1.7.0)\n",
      "Requirement already satisfied: fastapi in c:\\users\\akarpinska2\\anaconda3\\lib\\site-packages (from modAL) (0.104.0)\n",
      "Requirement already satisfied: certifi in c:\\users\\akarpinska2\\anaconda3\\lib\\site-packages (from modAL) (2023.5.7)\n",
      "Requirement already satisfied: types-certifi in c:\\users\\akarpinska2\\anaconda3\\lib\\site-packages (from modAL) (2021.10.8.3)\n",
      "Requirement already satisfied: importlib-metadata>=3.6.0 in c:\\users\\akarpinska2\\anaconda3\\lib\\site-packages (from modAL) (4.11.3)\n",
      "Requirement already satisfied: toml in c:\\users\\akarpinska2\\anaconda3\\lib\\site-packages (from modAL) (0.10.2)\n",
      "Requirement already satisfied: aiostream in c:\\users\\akarpinska2\\anaconda3\\lib\\site-packages (from modAL) (0.5.1)\n",
      "Requirement already satisfied: rich>=12.0.0 in c:\\users\\akarpinska2\\anaconda3\\lib\\site-packages (from modAL) (13.6.0)\n",
      "Requirement already satisfied: cloudpickle<2.1.0,>=2.0.0 in c:\\users\\akarpinska2\\anaconda3\\lib\\site-packages (from modAL) (2.0.0)\n",
      "Requirement already satisfied: typer~=0.9.0 in c:\\users\\akarpinska2\\anaconda3\\lib\\site-packages (from modAL) (0.9.0)\n",
      "Requirement already satisfied: typing-extensions~=4.6 in c:\\users\\akarpinska2\\anaconda3\\lib\\site-packages (from modAL) (4.8.0)\n",
      "Requirement already satisfied: protobuf!=4.24.0,<5.0,>=3.19 in c:\\users\\akarpinska2\\anaconda3\\lib\\site-packages (from modAL) (4.24.4)\n",
      "Requirement already satisfied: synchronicity~=0.5.3 in c:\\users\\akarpinska2\\anaconda3\\lib\\site-packages (from modAL) (0.5.3)\n",
      "Requirement already satisfied: click>=8.1.0 in c:\\users\\akarpinska2\\anaconda3\\lib\\site-packages (from modAL) (8.1.7)\n",
      "Requirement already satisfied: grpclib==0.4.3 in c:\\users\\akarpinska2\\anaconda3\\lib\\site-packages (from modAL) (0.4.3)\n",
      "Requirement already satisfied: h2<5,>=3.1.0 in c:\\users\\akarpinska2\\anaconda3\\lib\\site-packages (from grpclib==0.4.3->modAL) (4.1.0)\n",
      "Requirement already satisfied: multidict in c:\\users\\akarpinska2\\anaconda3\\lib\\site-packages (from grpclib==0.4.3->modAL) (6.0.4)\n",
      "Requirement already satisfied: colorama in c:\\users\\akarpinska2\\anaconda3\\lib\\site-packages (from click>=8.1.0->modAL) (0.4.6)\n",
      "Requirement already satisfied: zipp>=0.5 in c:\\users\\akarpinska2\\anaconda3\\lib\\site-packages (from importlib-metadata>=3.6.0->modAL) (3.11.0)\n",
      "Requirement already satisfied: pygments<3.0.0,>=2.13.0 in c:\\users\\akarpinska2\\anaconda3\\lib\\site-packages (from rich>=12.0.0->modAL) (2.16.1)\n",
      "Requirement already satisfied: markdown-it-py>=2.2.0 in c:\\users\\akarpinska2\\anaconda3\\lib\\site-packages (from rich>=12.0.0->modAL) (3.0.0)\n",
      "Requirement already satisfied: sigtools==4.0.1 in c:\\users\\akarpinska2\\anaconda3\\lib\\site-packages (from synchronicity~=0.5.3->modAL) (4.0.1)\n",
      "Requirement already satisfied: attrs in c:\\users\\akarpinska2\\anaconda3\\lib\\site-packages (from sigtools==4.0.1->synchronicity~=0.5.3->modAL) (22.1.0)\n",
      "Requirement already satisfied: yarl<2.0,>=1.0 in c:\\users\\akarpinska2\\anaconda3\\lib\\site-packages (from aiohttp->modAL) (1.9.2)\n",
      "Requirement already satisfied: frozenlist>=1.1.1 in c:\\users\\akarpinska2\\anaconda3\\lib\\site-packages (from aiohttp->modAL) (1.4.0)\n",
      "Requirement already satisfied: aiosignal>=1.1.2 in c:\\users\\akarpinska2\\anaconda3\\lib\\site-packages (from aiohttp->modAL) (1.3.1)\n",
      "Requirement already satisfied: async-timeout<5.0,>=4.0.0a3 in c:\\users\\akarpinska2\\anaconda3\\lib\\site-packages (from aiohttp->modAL) (4.0.3)\n",
      "Requirement already satisfied: charset-normalizer<4.0,>=2.0 in c:\\users\\akarpinska2\\anaconda3\\lib\\site-packages (from aiohttp->modAL) (2.0.4)\n",
      "Requirement already satisfied: pydantic!=1.8,!=1.8.1,!=2.0.0,!=2.0.1,!=2.1.0,<3.0.0,>=1.7.4 in c:\\users\\akarpinska2\\anaconda3\\lib\\site-packages (from fastapi->modAL) (2.4.2)\n",
      "Requirement already satisfied: starlette<0.28.0,>=0.27.0 in c:\\users\\akarpinska2\\anaconda3\\lib\\site-packages (from fastapi->modAL) (0.27.0)\n",
      "Requirement already satisfied: anyio<4.0.0,>=3.7.1 in c:\\users\\akarpinska2\\anaconda3\\lib\\site-packages (from fastapi->modAL) (3.7.1)\n",
      "Requirement already satisfied: idna>=2.8 in c:\\users\\akarpinska2\\anaconda3\\lib\\site-packages (from anyio<4.0.0,>=3.7.1->fastapi->modAL) (3.4)\n",
      "Requirement already satisfied: exceptiongroup in c:\\users\\akarpinska2\\anaconda3\\lib\\site-packages (from anyio<4.0.0,>=3.7.1->fastapi->modAL) (1.1.1)\n",
      "Requirement already satisfied: sniffio>=1.1 in c:\\users\\akarpinska2\\anaconda3\\lib\\site-packages (from anyio<4.0.0,>=3.7.1->fastapi->modAL) (1.2.0)\n",
      "Requirement already satisfied: hyperframe<7,>=6.0 in c:\\users\\akarpinska2\\anaconda3\\lib\\site-packages (from h2<5,>=3.1.0->grpclib==0.4.3->modAL) (6.0.1)\n",
      "Requirement already satisfied: hpack<5,>=4.0 in c:\\users\\akarpinska2\\anaconda3\\lib\\site-packages (from h2<5,>=3.1.0->grpclib==0.4.3->modAL) (4.0.0)\n",
      "Requirement already satisfied: mdurl~=0.1 in c:\\users\\akarpinska2\\anaconda3\\lib\\site-packages (from markdown-it-py>=2.2.0->rich>=12.0.0->modAL) (0.1.2)\n",
      "Requirement already satisfied: pydantic-core==2.10.1 in c:\\users\\akarpinska2\\anaconda3\\lib\\site-packages (from pydantic!=1.8,!=1.8.1,!=2.0.0,!=2.0.1,!=2.1.0,<3.0.0,>=1.7.4->fastapi->modAL) (2.10.1)\n",
      "Requirement already satisfied: annotated-types>=0.4.0 in c:\\users\\akarpinska2\\anaconda3\\lib\\site-packages (from pydantic!=1.8,!=1.8.1,!=2.0.0,!=2.0.1,!=2.1.0,<3.0.0,>=1.7.4->fastapi->modAL) (0.6.0)\n",
      "Note: you may need to restart the kernel to use updated packages.\n"
     ]
    }
   ],
   "source": [
    "pip install modAL"
   ]
  },
  {
   "cell_type": "code",
   "execution_count": null,
   "metadata": {},
   "outputs": [],
   "source": [
    "from collections import Counter\n",
    "from IPython.display import Image\n",
    "\n",
    "import matplotlib.pyplot as plt\n",
    "import numpy as np\n",
    "from sklearn.datasets import make_classification\n",
    "from sklearn.metrics import confusion_matrix    \n",
    "from modAL.models import ActiveLearner\n",
    "from modAL.uncertainty import entropy_sampling\n",
    "from sklearn.model_selection import train_test_split\n",
    "from sklearn.neighbors import KNeighborsClassifier\n",
    "from sklearn.preprocessing import StandardScaler"
   ]
  },
  {
   "cell_type": "code",
   "execution_count": 4,
   "metadata": {},
   "outputs": [],
   "source": [
    "'''Create useful functions'''\n",
    "\n",
    "# create classification metrics function\n",
    "def get_classification_metrics(y_real, y_pred):\n",
    "    cm = confusion_matrix(y_real, y_pred)\n",
    "    print('Confusion Matrix:\\n', cm)\n",
    "\n",
    "    tp = cm[0, 0]\n",
    "    tn = cm[1,1]\n",
    "    fn = cm[0,1]\n",
    "    fp = cm[1,0]\n",
    "\n",
    "    accuracy = (tp + tn) / cm.sum()\n",
    "    print(f'Accuracy: {round(accuracy, 4)}.')\n",
    "\n",
    "    sensitivity = tp / (tp + fn)\n",
    "    print(f'Sensitivity: {round(sensitivity, 4)}.')\n",
    "\n",
    "    specifity = tn / (tn + fp)\n",
    "    print(f'Specifity: {round(specifity, 4)}.')\n",
    "\n",
    "    mean_sensitivity_and_specifity = (sensitivity + specifity) / 2\n",
    "    print(f'Mean Sensitivity and Specifity: {round(mean_sensitivity_and_specifity, 4)}.')\n",
    "\n",
    "    return {'accuracy': accuracy, 'sensitivity': sensitivity, 'specifity' : specifity, \n",
    "            'mean_sensitivity_and_specifity': mean_sensitivity_and_specifity}"
   ]
  },
  {
   "cell_type": "code",
   "execution_count": 5,
   "metadata": {},
   "outputs": [],
   "source": [
    "# create artifical dataset function\n",
    "def get_classification_metrics(y_real, y_pred):\n",
    "    cm = confusion_matrix(y_real, y_pred)\n",
    "    print('Confusion Matrix:\\n', cm)\n",
    "    tp = cm[0,0]\n",
    "    tn = cm[1,1]\n",
    "    fn = cm[0,1]\n",
    "    fp = cm[1,0]\n",
    "\n",
    "    accuracy = (tp + tn) / cm.sum()\n",
    "    print(f'Accuracy: {round(accuracy, 4)}.')\n",
    "\n",
    "    sensitivity = tp / (tp + fn)\n",
    "    print(f'Sensitivity: {round(sensitivity, 4)}.')\n",
    "\n",
    "    specifity = tn / (tn + fp)\n",
    "    print(f'Specifity: {round(specifity, 4)}.')\n",
    "\n",
    "    mean_sensitivity_and_specifity = (sensitivity + specifity) / 2\n",
    "    print(f'Mean Sensitivity and Specifity: {round(mean_sensitivity_and_specifity, 4)}.')\n",
    "\n",
    "    return {'accuracy': accuracy, 'sensitivity': sensitivity, 'specifity' : specifity,\n",
    "            'mean_sensitivity_and_specifity': mean_sensitivity_and_specifity}"
   ]
  },
  {
   "cell_type": "code",
   "execution_count": 8,
   "metadata": {},
   "outputs": [],
   "source": [
    "# create artificial dataset function\n",
    "\n",
    "def get_artificial_dataset(use_scaling):\n",
    "    x_array, y_array = make_classification(\n",
    "        n_classes=2, class_sep=1.2, weights=[0.98, 0.02],\n",
    "        n_informative=3, n_redundant=1, flip_y=0, n_features=10, \n",
    "        n_clusters_per_class=3, n_samples=30000, random_state=10\n",
    "    )\n",
    "    if use_scaling:\n",
    "        scaled_x_array =StandardScaler().fit_transform(x_array)\n",
    "        return scaled_x_array, y_array\n",
    "    else: \n",
    "        return x_array, y_array\n",
    "\n"
   ]
  },
  {
   "cell_type": "code",
   "execution_count": null,
   "metadata": {},
   "outputs": [],
   "source": [
    "'''Create_artificial_datasets'''\n",
    "\n",
    "x_array, y_array = get_artificial_dataset(use_scaling=True)\n",
    "x_train, x_test, y_train, y_test = train_test_split(x_array, y_array, test_size=0.3, random_state=500)"
   ]
  },
  {
   "cell_type": "code",
   "execution_count": 10,
   "metadata": {},
   "outputs": [
    {
     "data": {
      "text/html": [
       "<img src=\"https://bit.ly/3szYeTF\" width=\"900\" height=\"300\"/>"
      ],
      "text/plain": [
       "<IPython.core.display.Image object>"
      ]
     },
     "execution_count": 10,
     "metadata": {},
     "output_type": "execute_result"
    }
   ],
   "source": [
    "'''active_learning'''\n",
    "\n",
    "Image(url='https://bit.ly/3szYeTF', width=900, height=300)"
   ]
  },
  {
   "cell_type": "code",
   "execution_count": 11,
   "metadata": {},
   "outputs": [
    {
     "data": {
      "text/html": [
       "<img src=\"https://bit.ly/3sGJF5G\" height=\"80\"/>"
      ],
      "text/plain": [
       "<IPython.core.display.Image object>"
      ]
     },
     "execution_count": 11,
     "metadata": {},
     "output_type": "execute_result"
    }
   ],
   "source": [
    "# classification uncertainty\n",
    "Image(url='https://bit.ly/3sGJF5G', height=80)\n",
    "# gdzie x przewidywana obserwacja x^ najbardziej prawdopodobna wartość predykcji"
   ]
  },
  {
   "cell_type": "code",
   "execution_count": 12,
   "metadata": {},
   "outputs": [
    {
     "data": {
      "text/plain": [
       "array([[0.15],\n",
       "       [0.3 ],\n",
       "       [0.39]])"
      ]
     },
     "execution_count": 12,
     "metadata": {},
     "output_type": "execute_result"
    }
   ],
   "source": [
    "obserwacje_predykcje = np.array([[0.85,0.15],\n",
    "                                 [0.3,0.7],\n",
    "                                 [0.61, 0.39]])\n",
    "obserwacje_predykcje.min(axis=1).reshape(3,1)"
   ]
  },
  {
   "cell_type": "code",
   "execution_count": null,
   "metadata": {},
   "outputs": [],
   "source": [
    "# selecting initial training set - all obs from minority class + 50 random obs from majority class\n",
    "minority_indices = np.where(y_train == 1)[0]\n",
    "np.random.seed(123)\n",
    "majority_indices = np.random.choice(np.where(y_train == 0)[0], size=50)\n",
    "starting_training_indices = np.concatenate([minority_indices, majority_indices])\n",
    "\n",
    "x_train_al = x_train[starting_training_indices]\n",
    "y_train_al = y_train[starting_training_indices]\n",
    "print(Counter(y_train_al))\n",
    "\n",
    "# Isolate the non-training examples we'll be querying.\n",
    "x_pool = np.delete(x_train, starting_training_indices, axis=0)\n",
    "y_pool = np.delete(y_train, starting_training_indices, axis=0)\n",
    "x_pool.shape"
   ]
  },
  {
   "cell_type": "code",
   "execution_count": null,
   "metadata": {},
   "outputs": [],
   "source": [
    "knn = KNeighborsClassifier()\n",
    "learner = ActiveLearner(estimator=knn, X_training=x_train_al, y_training=y_train_al, query_strategy=entropy_sampling)\n",
    "\n",
    "# Record our learner's score on the raw data\n",
    "al_predicted = learner.predict(x_test)\n",
    "al_classification_metrics = get_classification_metrics(y_test, al_predicted)\n",
    "\n",
    "N_QUERIES = 25\n",
    "classification_performance_history = [al_classification_metrics['mean_sensitivity_and_specifity']]"
   ]
  },
  {
   "cell_type": "code",
   "execution_count": null,
   "metadata": {},
   "outputs": [],
   "source": [
    "n_of_queried_instances = 10\n",
    "for index in range (N_QUERIES):\n",
    "    query_index, query_instance = learner.query(x_pool, n_instances=n_of_queried_instances)\n",
    "\n",
    "    temp_x_al, temp_y_al = x_pool[query_index].reshape(n_of_queried_instances, -1), y_pool[query_index]\n",
    "    learner.teach(X = temp_x_al, y=temp_y_al)\n",
    "\n",
    "    x_pool, y_pool = np.delete(x_pool, query_index, axis=0), np.delete(y_pool, query_index)\n",
    "\n",
    "    temp_predicted = learner.predict(x_test)\n",
    "    temp_mean_sensitivity_and_specifity = get_classification_metrics(y_test, temp_predicted)['mean_sensitivity_and_specifity']\n",
    "    print(f'Mean sensitivity and specifity after query {index+1}: {temp_mean_sensitivity_and_specifity:0.4f}.')\n",
    "\n",
    "    classification_performance_history.append('mean_sensitivity_and_specifity')"
   ]
  },
  {
   "cell_type": "code",
   "execution_count": null,
   "metadata": {},
   "outputs": [],
   "source": [
    "# final trining set\n",
    "Counter(learner.y_training)"
   ]
  },
  {
   "cell_type": "code",
   "execution_count": null,
   "metadata": {},
   "outputs": [],
   "source": [
    "# changes in classification quality metric during active learning training iterations\n",
    "plt.plot([20 + n_of_queried_instances * index for index in range(N_QUERIES + 1)], classification_performance_history)"
   ]
  }
 ],
 "metadata": {
  "kernelspec": {
   "display_name": "base",
   "language": "python",
   "name": "python3"
  },
  "language_info": {
   "codemirror_mode": {
    "name": "ipython",
    "version": 3
   },
   "file_extension": ".py",
   "mimetype": "text/x-python",
   "name": "python",
   "nbconvert_exporter": "python",
   "pygments_lexer": "ipython3",
   "version": "3.10.9"
  }
 },
 "nbformat": 4,
 "nbformat_minor": 2
}
